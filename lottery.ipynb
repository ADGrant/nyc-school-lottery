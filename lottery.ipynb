{
 "cells": [
  {
   "cell_type": "code",
   "execution_count": 1,
   "outputs": [],
   "source": [
    "import uuid"
   ],
   "metadata": {
    "collapsed": false,
    "ExecuteTime": {
     "end_time": "2023-09-23T02:04:52.575005Z",
     "start_time": "2023-09-23T02:04:52.570067Z"
    }
   },
   "id": "bfa34a822bdd1623"
  },
  {
   "cell_type": "markdown",
   "source": [
    "Generate and print a uuid (the lottery number)"
   ],
   "metadata": {
    "collapsed": false
   },
   "id": "dcda7946b12ae075"
  },
  {
   "cell_type": "code",
   "execution_count": 2,
   "outputs": [
    {
     "name": "stdout",
     "output_type": "stream",
     "text": [
      "1c2a16ab-1058-40e2-9e08-bbcfc4f39672\n"
     ]
    }
   ],
   "source": [
    "random = uuid.uuid4()\n",
    "print(random)"
   ],
   "metadata": {
    "collapsed": false,
    "ExecuteTime": {
     "end_time": "2023-09-23T02:04:52.576720Z",
     "start_time": "2023-09-23T02:04:52.574108Z"
    }
   },
   "id": "68f657712914e199"
  },
  {
   "cell_type": "markdown",
   "source": [
    "Take the first two characters"
   ],
   "metadata": {
    "collapsed": false
   },
   "id": "1ace79afb44b1ae7"
  },
  {
   "cell_type": "code",
   "execution_count": 3,
   "outputs": [
    {
     "name": "stdout",
     "output_type": "stream",
     "text": [
      "1c\n"
     ]
    }
   ],
   "source": [
    "first_two = str(random)[:2]\n",
    "print(first_two)"
   ],
   "metadata": {
    "collapsed": false,
    "ExecuteTime": {
     "end_time": "2023-09-23T02:04:52.581146Z",
     "start_time": "2023-09-23T02:04:52.577615Z"
    }
   },
   "id": "b2d8979ef9c37114"
  },
  {
   "cell_type": "markdown",
   "source": [
    "Convert to decimal"
   ],
   "metadata": {
    "collapsed": false
   },
   "id": "7160d48cc07b7b25"
  },
  {
   "cell_type": "code",
   "execution_count": 4,
   "outputs": [
    {
     "name": "stdout",
     "output_type": "stream",
     "text": [
      "28\n"
     ]
    }
   ],
   "source": [
    "decimal = int('0x' + first_two, 0)\n",
    "print(decimal)"
   ],
   "metadata": {
    "collapsed": false,
    "ExecuteTime": {
     "end_time": "2023-09-23T02:04:52.585986Z",
     "start_time": "2023-09-23T02:04:52.581032Z"
    }
   },
   "id": "8ea0dc6f6bf3c918"
  },
  {
   "cell_type": "markdown",
   "source": [
    "Convert Decimal to a percentage"
   ],
   "metadata": {
    "collapsed": false
   },
   "id": "6dad332f222b8d09"
  },
  {
   "cell_type": "code",
   "execution_count": 5,
   "outputs": [
    {
     "name": "stdout",
     "output_type": "stream",
     "text": [
      "11 %\n"
     ]
    }
   ],
   "source": [
    "percent = round((decimal / 256) * 100)\n",
    "print(str(percent) + \" %\")"
   ],
   "metadata": {
    "collapsed": false,
    "ExecuteTime": {
     "end_time": "2023-09-23T02:04:52.601357Z",
     "start_time": "2023-09-23T02:04:52.585278Z"
    }
   },
   "id": "4b334f0a96c53fb"
  },
  {
   "cell_type": "markdown",
   "source": [
    "Show Distribution of Lottery Numbers"
   ],
   "metadata": {
    "collapsed": false
   },
   "id": "b71f9db008fc9948"
  },
  {
   "cell_type": "code",
   "execution_count": 8,
   "outputs": [
    {
     "data": {
      "text/plain": "<BarContainer object of 257 artists>"
     },
     "execution_count": 8,
     "metadata": {},
     "output_type": "execute_result"
    },
    {
     "data": {
      "text/plain": "<Figure size 640x480 with 1 Axes>",
      "image/png": "[encoded data removed]"
     },
     "metadata": {},
     "output_type": "display_data"
    }
   ],
   "source": [
    "import matplotlib.pyplot as plt\n",
    "import numpy as np\n",
    "\n",
    "lottery_counts = [0] * 257\n",
    "for i in range(1000000):\n",
    "    val = int('0x' + str(uuid.uuid4())[:2], 0)\n",
    "    lottery_counts[val] += 1\n",
    "    \n",
    "s = np.array(lottery_counts)\n",
    "plt.bar(np.arange(len(s)), s)"
   ],
   "metadata": {
    "collapsed": false,
    "ExecuteTime": {
     "end_time": "2023-09-23T02:06:04.646793Z",
     "start_time": "2023-09-23T02:06:00.362505Z"
    }
   },
   "id": "2cabc5709596c628"
  },
  {
   "cell_type": "code",
   "execution_count": null,
   "outputs": [],
   "source": [],
   "metadata": {
    "collapsed": false
   },
   "id": "be755de09884705d"
  }
 ],
 "metadata": {
  "kernelspec": {
   "display_name": "Python 3",
   "language": "python",
   "name": "python3"
  },
  "language_info": {
   "codemirror_mode": {
    "name": "ipython",
    "version": 2
   },
   "file_extension": ".py",
   "mimetype": "text/x-python",
   "name": "python",
   "nbconvert_exporter": "python",
   "pygments_lexer": "ipython2",
   "version": "2.7.6"
  }
 },
 "nbformat": 4,
 "nbformat_minor": 5
}
