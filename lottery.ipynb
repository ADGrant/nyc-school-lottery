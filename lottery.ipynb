{
 "cells": [
  {
   "cell_type": "code",
   "execution_count": 8,
   "id": "initial_id",
   "metadata": {
    "collapsed": true,
    "ExecuteTime": {
     "end_time": "2023-09-21T01:56:01.902594Z",
     "start_time": "2023-09-21T01:56:01.896499Z"
    }
   },
   "outputs": [],
   "source": [
    "import uuid"
   ]
  },
  {
   "cell_type": "code",
   "execution_count": 9,
   "outputs": [
    {
     "name": "stdout",
     "output_type": "stream",
     "text": [
      "281b1659-82bd-4ea8-9631-722fed6e1bfa\n"
     ]
    }
   ],
   "source": [
    "random = uuid.uuid4()\n",
    "print(random)"
   ],
   "metadata": {
    "collapsed": false,
    "ExecuteTime": {
     "end_time": "2023-09-21T01:56:01.903731Z",
     "start_time": "2023-09-21T01:56:01.899890Z"
    }
   },
   "id": "68f657712914e199"
  },
  {
   "cell_type": "code",
   "execution_count": 10,
   "outputs": [
    {
     "name": "stdout",
     "output_type": "stream",
     "text": [
      "28\n"
     ]
    }
   ],
   "source": [
    "first_two = str(random)[:2]\n",
    "print(first_two)"
   ],
   "metadata": {
    "collapsed": false,
    "ExecuteTime": {
     "end_time": "2023-09-21T01:56:01.907469Z",
     "start_time": "2023-09-21T01:56:01.903512Z"
    }
   },
   "id": "b2d8979ef9c37114"
  },
  {
   "cell_type": "code",
   "execution_count": 12,
   "outputs": [
    {
     "name": "stdout",
     "output_type": "stream",
     "text": [
      "40\n"
     ]
    }
   ],
   "source": [
    "decimal = int('0x' + first_two, 0)\n",
    "print(decimal)"
   ],
   "metadata": {
    "collapsed": false,
    "ExecuteTime": {
     "end_time": "2023-09-21T01:56:46.359669Z",
     "start_time": "2023-09-21T01:56:46.356150Z"
    }
   },
   "id": "8ea0dc6f6bf3c918"
  },
  {
   "cell_type": "code",
   "execution_count": 14,
   "outputs": [
    {
     "name": "stdout",
     "output_type": "stream",
     "text": [
      "16\n"
     ]
    }
   ],
   "source": [
    "percent = round((decimal / 256) * 100)\n",
    "print(percent)"
   ],
   "metadata": {
    "collapsed": false,
    "ExecuteTime": {
     "end_time": "2023-09-21T01:58:06.232214Z",
     "start_time": "2023-09-21T01:58:06.226355Z"
    }
   },
   "id": "4b334f0a96c53fb"
  },
  {
   "cell_type": "code",
   "execution_count": null,
   "outputs": [],
   "source": [],
   "metadata": {
    "collapsed": false
   },
   "id": "1bcd143b06a086b1"
  }
 ],
 "metadata": {
  "kernelspec": {
   "display_name": "Python 3",
   "language": "python",
   "name": "python3"
  },
  "language_info": {
   "codemirror_mode": {
    "name": "ipython",
    "version": 2
   },
   "file_extension": ".py",
   "mimetype": "text/x-python",
   "name": "python",
   "nbconvert_exporter": "python",
   "pygments_lexer": "ipython2",
   "version": "2.7.6"
  }
 },
 "nbformat": 4,
 "nbformat_minor": 5
}
