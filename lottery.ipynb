{
 "cells": [
  {
   "cell_type": "code",
   "execution_count": 27,
   "outputs": [],
   "source": [
    "import uuid"
   ],
   "metadata": {
    "collapsed": false,
    "ExecuteTime": {
     "end_time": "2023-09-21T02:04:26.795888Z",
     "start_time": "2023-09-21T02:04:26.787018Z"
    }
   },
   "id": "bfa34a822bdd1623"
  },
  {
   "cell_type": "markdown",
   "source": [
    "Generate and print a uuid (the lottery number)"
   ],
   "metadata": {
    "collapsed": false
   },
   "id": "dcda7946b12ae075"
  },
  {
   "cell_type": "code",
   "execution_count": 28,
   "outputs": [
    {
     "name": "stdout",
     "output_type": "stream",
     "text": [
      "772d6be3-e6a7-465e-a543-bb44af68467f\n"
     ]
    }
   ],
   "source": [
    "random = uuid.uuid4()\n",
    "print(random)"
   ],
   "metadata": {
    "collapsed": false,
    "ExecuteTime": {
     "end_time": "2023-09-21T02:04:26.796785Z",
     "start_time": "2023-09-21T02:04:26.790517Z"
    }
   },
   "id": "68f657712914e199"
  },
  {
   "cell_type": "markdown",
   "source": [
    "Take the first two characters"
   ],
   "metadata": {
    "collapsed": false
   },
   "id": "1ace79afb44b1ae7"
  },
  {
   "cell_type": "code",
   "execution_count": 29,
   "outputs": [
    {
     "name": "stdout",
     "output_type": "stream",
     "text": [
      "77\n"
     ]
    }
   ],
   "source": [
    "first_two = str(random)[:2]\n",
    "print(first_two)"
   ],
   "metadata": {
    "collapsed": false,
    "ExecuteTime": {
     "end_time": "2023-09-21T02:04:26.798165Z",
     "start_time": "2023-09-21T02:04:26.794560Z"
    }
   },
   "id": "b2d8979ef9c37114"
  },
  {
   "cell_type": "markdown",
   "source": [
    "Convert to decimal"
   ],
   "metadata": {
    "collapsed": false
   },
   "id": "7160d48cc07b7b25"
  },
  {
   "cell_type": "code",
   "execution_count": 30,
   "outputs": [
    {
     "name": "stdout",
     "output_type": "stream",
     "text": [
      "119\n"
     ]
    }
   ],
   "source": [
    "decimal = int('0x' + first_two, 0)\n",
    "print(decimal)"
   ],
   "metadata": {
    "collapsed": false,
    "ExecuteTime": {
     "end_time": "2023-09-21T02:04:26.804372Z",
     "start_time": "2023-09-21T02:04:26.797960Z"
    }
   },
   "id": "8ea0dc6f6bf3c918"
  },
  {
   "cell_type": "markdown",
   "source": [
    "Convert Decimal to a percentage"
   ],
   "metadata": {
    "collapsed": false
   },
   "id": "6dad332f222b8d09"
  },
  {
   "cell_type": "code",
   "execution_count": 31,
   "outputs": [
    {
     "name": "stdout",
     "output_type": "stream",
     "text": [
      "46 %\n"
     ]
    }
   ],
   "source": [
    "percent = round((decimal / 256) * 100)\n",
    "print(str(percent) + \" %\")"
   ],
   "metadata": {
    "collapsed": false,
    "ExecuteTime": {
     "end_time": "2023-09-21T02:04:26.805844Z",
     "start_time": "2023-09-21T02:04:26.801885Z"
    }
   },
   "id": "4b334f0a96c53fb"
  }
 ],
 "metadata": {
  "kernelspec": {
   "display_name": "Python 3",
   "language": "python",
   "name": "python3"
  },
  "language_info": {
   "codemirror_mode": {
    "name": "ipython",
    "version": 2
   },
   "file_extension": ".py",
   "mimetype": "text/x-python",
   "name": "python",
   "nbconvert_exporter": "python",
   "pygments_lexer": "ipython2",
   "version": "2.7.6"
  }
 },
 "nbformat": 4,
 "nbformat_minor": 5
}
